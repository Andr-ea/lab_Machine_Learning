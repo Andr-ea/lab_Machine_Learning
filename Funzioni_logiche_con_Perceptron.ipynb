{
  "nbformat": 4,
  "nbformat_minor": 0,
  "metadata": {
    "colab": {
      "name": "Funzioni_logiche_con_Perceptron.ipynb",
      "provenance": [],
      "collapsed_sections": []
    },
    "kernelspec": {
      "name": "python3",
      "display_name": "Python 3"
    }
  },
  "cells": [
    {
      "cell_type": "markdown",
      "metadata": {
        "id": "Nt3zeDqq8G3V"
      },
      "source": [
        "# Implementation of NOT - AND - OR - XOR logic functions through the use of Perceptron. \n",
        "\n",
        "In the following notebook I have implemented the NOT - AND - OR - XOR logic functions using the Perceptron formula\n",
        "\n",
        "NOTE:\n",
        "To implement the XOR a combination of the three perceptrons was made to obtain a more complex logic function, as it is not possible to find the parameter values for a single perceptron so that it implements the XOR function by itself, due to the fact that this function it is not linearly separable."
      ]
    },
    {
      "cell_type": "code",
      "metadata": {
        "id": "ZEDTZA3-6nsO",
        "colab": {
          "base_uri": "https://localhost:8080/"
        },
        "outputId": "be5ab30d-d4c9-453a-9e0a-534432f9b489"
      },
      "source": [
        "import numpy as np\n",
        "\n",
        "def unit_step(v):\n",
        "\t\" Heavyside Step function. v must be a scalar \"\n",
        "\tif v >= 0:\n",
        "\t\treturn 1\n",
        "\telse:\n",
        "\t\treturn 0\n",
        "\t\n",
        "def perceptron(x, w, b):\n",
        "  \" Function implemented by a perceptron with weight vector w and bias b \"\n",
        "  v = np.dot(w, x) + b\n",
        "  y = unit_step(v)\n",
        "  return y\n",
        "\n",
        "def NOT_percep(x):\n",
        "\treturn perceptron(x, w=-1, b=0.5)\n",
        "\n",
        "print(\"NOT(0) = {}\".format(NOT_percep(0)))\n",
        "print(\"NOT(1) = {}\".format(NOT_percep(1)))\n",
        "print(\"_________________________\" )\n",
        "\n",
        "def AND_percep(x):\n",
        "    w = np.array([1, 1])\n",
        "    b = -1.5\n",
        "    return perceptron(x, w, b)\n",
        "\n",
        "# Test\n",
        "example1 = np.array([1, 1])\n",
        "example2 = np.array([1, 0])\n",
        "example3 = np.array([0, 1])\n",
        "example4 = np.array([0, 0])\n",
        "\n",
        "print(\"AND({}, {}) = {}\".format(1, 1, AND_percep(example1)))\n",
        "print(\"AND({}, {}) = {}\".format(1, 0, AND_percep(example2)))\n",
        "print(\"AND({}, {}) = {}\".format(0, 1, AND_percep(example3)))\n",
        "print(\"AND({}, {}) = {}\".format(0, 0, AND_percep(example4)))\n",
        "print(\"_________________________\" )\n",
        "\n",
        "def OR_percep(x):\n",
        "    w = np.array([1, 1])\n",
        "    b = -0.5\n",
        "    return perceptron(x, w, b)\n",
        "\n",
        "# Test\n",
        "example1 = np.array([1, 1])\n",
        "example2 = np.array([1, 0])\n",
        "example3 = np.array([0, 1])\n",
        "example4 = np.array([0, 0])\n",
        "\n",
        "print(\"OR({}, {}) = {}\".format(1, 1, OR_percep(example1)))\n",
        "print(\"OR({}, {}) = {}\".format(1, 0, OR_percep(example2)))\n",
        "print(\"OR({}, {}) = {}\".format(0, 1, OR_percep(example3)))\n",
        "print(\"OR({}, {}) = {}\".format(0, 0, OR_percep(example4)))\n",
        "print(\"_________________________\" )\n",
        "\n",
        "\n",
        "def XOR_net(x):\n",
        "    gate_1 = AND_percep(x)\n",
        "    gate_2 = NOT_percep(gate_1)\n",
        "    gate_3 = OR_percep(x)\n",
        "    new_x = np.array([gate_2, gate_3])\n",
        "    output = AND_percep(new_x)\n",
        "    return output\n",
        "\n",
        "print(\"XOR({}, {}) = {}\".format(1, 1, XOR_net(example1)))\n",
        "print(\"XOR({}, {}) = {}\".format(1, 0, XOR_net(example2)))\n",
        "print(\"XOR({}, {}) = {}\".format(0, 1, XOR_net(example3)))\n",
        "print(\"XOR({}, {}) = {}\".format(0, 0, XOR_net(example4)))\n",
        "print(\"_________________________\" )"
      ],
      "execution_count": null,
      "outputs": [
        {
          "output_type": "stream",
          "text": [
            "NOT(0) = 1\n",
            "NOT(1) = 0\n",
            "_________________________\n",
            "AND(1, 1) = 1\n",
            "AND(1, 0) = 0\n",
            "AND(0, 1) = 0\n",
            "AND(0, 0) = 0\n",
            "_________________________\n",
            "OR(1, 1) = 1\n",
            "OR(1, 0) = 1\n",
            "OR(0, 1) = 1\n",
            "OR(0, 0) = 0\n",
            "_________________________\n",
            "XOR(1, 1) = 0\n",
            "XOR(1, 0) = 1\n",
            "XOR(0, 1) = 1\n",
            "XOR(0, 0) = 0\n",
            "_________________________\n"
          ],
          "name": "stdout"
        }
      ]
    }
  ]
}