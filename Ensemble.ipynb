{
  "nbformat": 4,
  "nbformat_minor": 0,
  "metadata": {
    "colab": {
      "name": "Ensemble.ipynb",
      "provenance": [],
      "collapsed_sections": []
    },
    "kernelspec": {
      "name": "python3",
      "display_name": "Python 3"
    }
  },
  "cells": [
    {
      "cell_type": "markdown",
      "metadata": {
        "id": "RGTRWFgz1RyU"
      },
      "source": [
        "#Ensemble Learning Techniques\n",
        "\n",
        "In this simple notebook we will see some Ensemble Learning techniques studied in class to make a comparison and see which one performs better.\n",
        "\n",
        "The breast_cancer dataset of the sklearn library is considered as a dataset."
      ]
    },
    {
      "cell_type": "code",
      "metadata": {
        "id": "e4cnlvioj8Gc"
      },
      "source": [
        "import pandas as pd\n",
        "import numpy as np\n",
        "\n",
        "from sklearn import datasets, metrics\n",
        "from sklearn.model_selection import train_test_split\n",
        "from sklearn.preprocessing import StandardScaler\n",
        "\n",
        "cancer = datasets.load_breast_cancer()\n",
        "X = cancer.data\n",
        "y = cancer.target"
      ],
      "execution_count": null,
      "outputs": []
    },
    {
      "cell_type": "code",
      "metadata": {
        "id": "zEPWW5972Lii"
      },
      "source": [
        "#i dati vengono standardizzati per una migliore visualizzazione\n",
        "scaler = StandardScaler()\n",
        "X_scaled = scaler.fit_transform(X)"
      ],
      "execution_count": null,
      "outputs": []
    },
    {
      "cell_type": "code",
      "metadata": {
        "id": "YpLpx2e4kOV1"
      },
      "source": [
        "from sklearn.ensemble import RandomForestClassifier, AdaBoostClassifier, GradientBoostingClassifier, StackingClassifier, BaggingClassifier\n",
        "from sklearn.tree import DecisionTreeClassifier\n",
        "from sklearn.linear_model import LogisticRegression\n"
      ],
      "execution_count": null,
      "outputs": []
    },
    {
      "cell_type": "code",
      "metadata": {
        "id": "MOn0vg4YkU6C"
      },
      "source": [
        "X_train, X_test, y_train, y_test = train_test_split(X_scaled, y, test_size = 0.2, random_state = 1, stratify = y)"
      ],
      "execution_count": null,
      "outputs": []
    },
    {
      "cell_type": "markdown",
      "metadata": {
        "id": "fNo_7qoW5DLU"
      },
      "source": [
        "As Classifiers we consider:\n",
        "\n",
        "- Random Forest\n",
        "- AdaBoost\n",
        "- GradientBoosting\n",
        "- Bagging (using DecisionTreeClassifier)\n",
        "- Stacking (using the first three mentioned as classifiers and LogisticRegression as meta-model)"
      ]
    },
    {
      "cell_type": "code",
      "metadata": {
        "id": "rysxxpPGkZwo"
      },
      "source": [
        "rfc = RandomForestClassifier(n_estimators=200, random_state=1)\n",
        "abc = AdaBoostClassifier(n_estimators=200, random_state= 1, learning_rate=0.01)\n",
        "gbc = GradientBoostingClassifier(n_estimators=200, random_state=1,learning_rate=0.01)\n",
        "bg = BaggingClassifier(DecisionTreeClassifier(), max_samples= 0.5, max_features = 1.0, n_estimators = 200)\n",
        "stck = StackingClassifier( estimators= [('rfc',rfc),('abc',abc),('gbc',gbc)], final_estimator=LogisticRegression() )"
      ],
      "execution_count": null,
      "outputs": []
    },
    {
      "cell_type": "code",
      "metadata": {
        "colab": {
          "base_uri": "https://localhost:8080/"
        },
        "id": "TzXjA9WpkpaT",
        "outputId": "1ef6a18c-5d08-4647-ec01-12a269f7db37"
      },
      "source": [
        "rfc.fit(X_train, y_train)\n",
        "abc.fit(X_train, y_train)\n",
        "gbc.fit(X_train, y_train)\n",
        "bg.fit(X_train,y_train)\n",
        "stck.fit(X_train, y_train)\n",
        "\n",
        "print(\"\")"
      ],
      "execution_count": null,
      "outputs": [
        {
          "output_type": "stream",
          "text": [
            "\n"
          ],
          "name": "stdout"
        }
      ]
    },
    {
      "cell_type": "markdown",
      "metadata": {
        "id": "esk5qjk47AvZ"
      },
      "source": [
        "Finally, analyzing the accuracy of the various models we obtain that all classifiers have an accuracy between 0.94% and 0.97%, in particular it turns out that Gradient Boost is better."
      ]
    },
    {
      "cell_type": "code",
      "metadata": {
        "colab": {
          "base_uri": "https://localhost:8080/"
        },
        "id": "6SQeDV2IkurJ",
        "outputId": "8560e773-11c9-451e-f145-7c4e40c83932"
      },
      "source": [
        "print('Random Forest: ', rfc.score(X_test, y_test))\n",
        "print('AdaBoost: ', abc.score(X_test, y_test))\n",
        "print('Gradient Boost: ', gbc.score(X_test, y_test))\n",
        "print('Bagging: ', bg .score(X_test, y_test))\n",
        "print('Stacking: ', stck .score(X_test, y_test))\n"
      ],
      "execution_count": null,
      "outputs": [
        {
          "output_type": "stream",
          "text": [
            "Random Forest:  0.9473684210526315\n",
            "AdaBoost:  0.9473684210526315\n",
            "Gradient Boost:  0.9736842105263158\n",
            "Bagging:  0.956140350877193\n",
            "Stacking:  0.9649122807017544\n"
          ],
          "name": "stdout"
        }
      ]
    }
  ]
}